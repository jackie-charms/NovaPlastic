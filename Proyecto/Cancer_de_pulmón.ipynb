{
  "nbformat": 4,
  "nbformat_minor": 0,
  "metadata": {
    "colab": {
      "provenance": [],
      "mount_file_id": "1vwV4hDTkLI_H9ljnrTIztp3N5HrbAXWL",
      "authorship_tag": "ABX9TyOHhdPyTQLgAdk2BJFkTqwN",
      "include_colab_link": true
    },
    "kernelspec": {
      "name": "python3",
      "display_name": "Python 3"
    },
    "language_info": {
      "name": "python"
    },
    "accelerator": "GPU",
    "gpuClass": "standard"
  },
  "cells": [
    {
      "cell_type": "markdown",
      "metadata": {
        "id": "view-in-github",
        "colab_type": "text"
      },
      "source": [
        "<a href=\"https://colab.research.google.com/github/jackie-charms/NovaPlastic/blob/master/Proyecto/Cancer_de_pulm%C3%B3n.ipynb\" target=\"_parent\"><img src=\"https://colab.research.google.com/assets/colab-badge.svg\" alt=\"Open In Colab\"/></a>"
      ]
    },
    {
      "cell_type": "code",
      "execution_count": 1,
      "metadata": {
        "id": "G_5eN2iMcFDn"
      },
      "outputs": [],
      "source": [
        "from keras.models import Sequential\n",
        "from keras.layers import Dense\n",
        "import numpy as np\n",
        "import matplotlib.pyplot as plt #para graficar"
      ]
    },
    {
      "cell_type": "code",
      "source": [
        "from sklearn.model_selection import train_test_split\n",
        "from sklearn.preprocessing import OneHotEncoder\n",
        "from sklearn.preprocessing import MinMaxScaler"
      ],
      "metadata": {
        "id": "6lryTD9PcxH1"
      },
      "execution_count": 2,
      "outputs": []
    },
    {
      "cell_type": "code",
      "source": [
        "#importar la base de datos\n",
        "dataset = np.loadtxt('/content/drive/MyDrive/Colab Notebooks/lung-cancer_final.data', delimiter=',')"
      ],
      "metadata": {
        "id": "nEDL_oa7czMY"
      },
      "execution_count": 3,
      "outputs": []
    },
    {
      "cell_type": "code",
      "source": [
        "dataset"
      ],
      "metadata": {
        "colab": {
          "base_uri": "https://localhost:8080/"
        },
        "id": "ftjT-JnWdG1r",
        "outputId": "bb6b7ed8-104f-4bb6-c7a7-5a75de8d7986"
      },
      "execution_count": 4,
      "outputs": [
        {
          "output_type": "execute_result",
          "data": {
            "text/plain": [
              "array([[0., 0., 1., ..., 1., 2., 2.],\n",
              "       [0., 0., 1., ..., 1., 2., 2.],\n",
              "       [0., 0., 1., ..., 2., 1., 2.],\n",
              "       ...,\n",
              "       [1., 0., 0., ..., 2., 2., 1.],\n",
              "       [1., 0., 0., ..., 1., 2., 2.],\n",
              "       [1., 0., 0., ..., 2., 2., 2.]])"
            ]
          },
          "metadata": {},
          "execution_count": 4
        }
      ]
    },
    {
      "cell_type": "code",
      "source": [
        "X = dataset[:, 3:59] #entrada deseada\n",
        "Y = dataset[:, 0:3] #salida deseada"
      ],
      "metadata": {
        "id": "tzaQl3yfi7Yw"
      },
      "execution_count": 5,
      "outputs": []
    },
    {
      "cell_type": "code",
      "source": [
        "Y"
      ],
      "metadata": {
        "colab": {
          "base_uri": "https://localhost:8080/"
        },
        "id": "gPlnE6sgdMi0",
        "outputId": "1044fd44-5a91-44ed-ddf4-57cc4f03e2d2"
      },
      "execution_count": 6,
      "outputs": [
        {
          "output_type": "execute_result",
          "data": {
            "text/plain": [
              "array([[0., 0., 1.],\n",
              "       [0., 0., 1.],\n",
              "       [0., 0., 1.],\n",
              "       [0., 0., 1.],\n",
              "       [0., 0., 1.],\n",
              "       [0., 0., 1.],\n",
              "       [0., 0., 1.],\n",
              "       [0., 0., 1.],\n",
              "       [0., 0., 1.],\n",
              "       [0., 1., 0.],\n",
              "       [0., 1., 0.],\n",
              "       [0., 1., 0.],\n",
              "       [0., 1., 0.],\n",
              "       [0., 1., 0.],\n",
              "       [0., 1., 0.],\n",
              "       [0., 1., 0.],\n",
              "       [0., 1., 0.],\n",
              "       [0., 1., 0.],\n",
              "       [0., 1., 0.],\n",
              "       [0., 1., 0.],\n",
              "       [0., 1., 0.],\n",
              "       [0., 1., 0.],\n",
              "       [1., 0., 0.],\n",
              "       [1., 0., 0.],\n",
              "       [1., 0., 0.],\n",
              "       [1., 0., 0.],\n",
              "       [1., 0., 0.],\n",
              "       [1., 0., 0.],\n",
              "       [1., 0., 0.],\n",
              "       [1., 0., 0.],\n",
              "       [1., 0., 0.],\n",
              "       [1., 0., 0.]])"
            ]
          },
          "metadata": {},
          "execution_count": 6
        }
      ]
    },
    {
      "cell_type": "code",
      "source": [
        "X.shape"
      ],
      "metadata": {
        "colab": {
          "base_uri": "https://localhost:8080/"
        },
        "id": "93I7sDhPWsBw",
        "outputId": "7eefd3f6-2726-401b-826b-8ef3985e6d85"
      },
      "execution_count": 7,
      "outputs": [
        {
          "output_type": "execute_result",
          "data": {
            "text/plain": [
              "(32, 56)"
            ]
          },
          "metadata": {},
          "execution_count": 7
        }
      ]
    },
    {
      "cell_type": "code",
      "source": [
        "X[1,:]"
      ],
      "metadata": {
        "colab": {
          "base_uri": "https://localhost:8080/"
        },
        "id": "SQZ7kOiSXAdx",
        "outputId": "25e5b130-5b65-4bdd-f71e-afc5a1fe8511"
      },
      "execution_count": 8,
      "outputs": [
        {
          "output_type": "execute_result",
          "data": {
            "text/plain": [
              "array([0., 3., 3., 1., 0., 3., 1., 3., 1., 1., 1., 1., 1., 3., 3., 1., 2.,\n",
              "       2., 0., 0., 2., 2., 2., 1., 2., 1., 3., 2., 3., 1., 1., 1., 3., 3.,\n",
              "       2., 2., 2., 1., 2., 2., 2., 1., 2., 2., 1., 2., 2., 2., 2., 2., 2.,\n",
              "       2., 2., 1., 2., 2.])"
            ]
          },
          "metadata": {},
          "execution_count": 8
        }
      ]
    },
    {
      "cell_type": "code",
      "source": [
        "Y.shape"
      ],
      "metadata": {
        "colab": {
          "base_uri": "https://localhost:8080/"
        },
        "id": "ZkRpbP-pWxhQ",
        "outputId": "828ef1d0-64af-46f6-b5a2-320214108d2e"
      },
      "execution_count": 9,
      "outputs": [
        {
          "output_type": "execute_result",
          "data": {
            "text/plain": [
              "(32, 3)"
            ]
          },
          "metadata": {},
          "execution_count": 9
        }
      ]
    },
    {
      "cell_type": "code",
      "source": [
        "#normalizar el mínimo y máximo (el rango)\n",
        "scaler = MinMaxScaler(feature_range= (0, 1))\n",
        "X= scaler.fit_transform(X)"
      ],
      "metadata": {
        "id": "8u0osjGzdPKD"
      },
      "execution_count": 10,
      "outputs": []
    },
    {
      "cell_type": "code",
      "source": [
        "X"
      ],
      "metadata": {
        "colab": {
          "base_uri": "https://localhost:8080/"
        },
        "id": "1DtmBthBdPS7",
        "outputId": "ddf96e96-f90f-454f-b5ba-d68c6c8e70e1"
      },
      "execution_count": 11,
      "outputs": [
        {
          "output_type": "execute_result",
          "data": {
            "text/plain": [
              "array([[0.        , 1.        , 0.        , ..., 0.        , 1.        ,\n",
              "        1.        ],\n",
              "       [0.        , 1.        , 1.        , ..., 0.        , 1.        ,\n",
              "        1.        ],\n",
              "       [0.        , 1.        , 1.        , ..., 1.        , 0.        ,\n",
              "        1.        ],\n",
              "       ...,\n",
              "       [0.        , 0.5       , 0.33333333, ..., 1.        , 1.        ,\n",
              "        0.        ],\n",
              "       [0.        , 0.5       , 1.        , ..., 0.        , 1.        ,\n",
              "        1.        ],\n",
              "       [0.        , 0.5       , 1.        , ..., 1.        , 1.        ,\n",
              "        1.        ]])"
            ]
          },
          "metadata": {},
          "execution_count": 11
        }
      ]
    },
    {
      "cell_type": "code",
      "source": [
        "x_train, x_test, y_train, y_test = train_test_split(X, Y, test_size= 0.5)"
      ],
      "metadata": {
        "id": "7LxxpSp_dUO7"
      },
      "execution_count": 12,
      "outputs": []
    },
    {
      "cell_type": "code",
      "source": [
        "x_train.shape"
      ],
      "metadata": {
        "colab": {
          "base_uri": "https://localhost:8080/"
        },
        "id": "Tw2SHz__dUc8",
        "outputId": "60a7df0d-1ce3-485f-c953-3f9e1d34479e"
      },
      "execution_count": 13,
      "outputs": [
        {
          "output_type": "execute_result",
          "data": {
            "text/plain": [
              "(16, 56)"
            ]
          },
          "metadata": {},
          "execution_count": 13
        }
      ]
    },
    {
      "cell_type": "code",
      "source": [
        "y_train.shape"
      ],
      "metadata": {
        "colab": {
          "base_uri": "https://localhost:8080/"
        },
        "id": "u0N1ptyDdkxI",
        "outputId": "1009f9f3-2d69-4b6d-9762-da5cfdb214b5"
      },
      "execution_count": 14,
      "outputs": [
        {
          "output_type": "execute_result",
          "data": {
            "text/plain": [
              "(16, 3)"
            ]
          },
          "metadata": {},
          "execution_count": 14
        }
      ]
    },
    {
      "cell_type": "code",
      "source": [
        "model = Sequential()\n",
        "model.add(Dense(44, input_dim= 56, activation= 'relu'))\n",
        "\n",
        "model.add(Dense(40, activation= 'relu'))\n",
        "model.add(Dense(38, activation= 'relu'))\n",
        "\n",
        "model.add(Dense(36, activation= 'relu'))\n",
        "model.add(Dense(34, activation= 'relu'))\n",
        "\n",
        "model.add(Dense(32, activation= 'relu'))\n",
        "model.add(Dense(30, activation= 'relu'))\n",
        "\n",
        "model.add(Dense(28, activation= 'relu'))\n",
        "model.add(Dense(26, activation= 'relu'))\n",
        "\n",
        "model.add(Dense(24, activation= 'relu'))\n",
        "model.add(Dense(22, activation= 'relu'))\n",
        "\n",
        "model.add(Dense(20, activation= 'relu'))\n",
        "model.add(Dense(18, activation= 'relu'))\n",
        "\n",
        "model.add(Dense(16, activation= 'relu'))\n",
        "model.add(Dense(14, activation= 'relu'))\n",
        "\n",
        "model.add(Dense(12, activation= 'relu'))\n",
        "model.add(Dense(10, activation= 'relu'))\n",
        "\n",
        "model.add(Dense(8, activation= 'relu'))\n",
        "model.add(Dense(6, activation= 'relu'))\n",
        "\n",
        "model.add(Dense(4, activation= 'relu'))\n",
        "model.add(Dense(2, activation= 'relu'))\n",
        "\n",
        "model.add(Dense(3, activation= 'relu'))"
      ],
      "metadata": {
        "id": "V8g5zAVAdk7U"
      },
      "execution_count": 15,
      "outputs": []
    },
    {
      "cell_type": "code",
      "source": [
        "model.compile(loss='binary_crossentropy', optimizer='adam', metrics=['accuracy'])"
      ],
      "metadata": {
        "id": "DJh77XRCeAz5"
      },
      "execution_count": 16,
      "outputs": []
    },
    {
      "cell_type": "code",
      "source": [
        "history = model.fit(x_train, y_train, validation_data=(x_test, y_test), epochs= 55, batch_size= 35)"
      ],
      "metadata": {
        "colab": {
          "base_uri": "https://localhost:8080/"
        },
        "id": "dyGajSuPeA7d",
        "outputId": "d1aea1f8-7ff2-4ac3-ba96-e78b4471ff53"
      },
      "execution_count": 17,
      "outputs": [
        {
          "output_type": "stream",
          "name": "stdout",
          "text": [
            "Epoch 1/55\n",
            "1/1 [==============================] - 18s 18s/step - loss: 5.1416 - accuracy: 0.3125 - val_loss: 5.1416 - val_accuracy: 0.3125\n",
            "Epoch 2/55\n",
            "1/1 [==============================] - 0s 44ms/step - loss: 5.1416 - accuracy: 0.3125 - val_loss: 5.1416 - val_accuracy: 0.3125\n",
            "Epoch 3/55\n",
            "1/1 [==============================] - 0s 61ms/step - loss: 5.1416 - accuracy: 0.3125 - val_loss: 5.1416 - val_accuracy: 0.3125\n",
            "Epoch 4/55\n",
            "1/1 [==============================] - 0s 42ms/step - loss: 5.1416 - accuracy: 0.3125 - val_loss: 5.1416 - val_accuracy: 0.3125\n",
            "Epoch 5/55\n",
            "1/1 [==============================] - 0s 60ms/step - loss: 5.1416 - accuracy: 0.3125 - val_loss: 5.1416 - val_accuracy: 0.3125\n",
            "Epoch 6/55\n",
            "1/1 [==============================] - 0s 53ms/step - loss: 5.1416 - accuracy: 0.3125 - val_loss: 5.1416 - val_accuracy: 0.3125\n",
            "Epoch 7/55\n",
            "1/1 [==============================] - 0s 69ms/step - loss: 5.1416 - accuracy: 0.3125 - val_loss: 5.1416 - val_accuracy: 0.3125\n",
            "Epoch 8/55\n",
            "1/1 [==============================] - 0s 66ms/step - loss: 5.1416 - accuracy: 0.3125 - val_loss: 5.1416 - val_accuracy: 0.3125\n",
            "Epoch 9/55\n",
            "1/1 [==============================] - 0s 65ms/step - loss: 5.1416 - accuracy: 0.3125 - val_loss: 5.1416 - val_accuracy: 0.3125\n",
            "Epoch 10/55\n",
            "1/1 [==============================] - 0s 62ms/step - loss: 5.1416 - accuracy: 0.3125 - val_loss: 5.1416 - val_accuracy: 0.3125\n",
            "Epoch 11/55\n",
            "1/1 [==============================] - 0s 47ms/step - loss: 5.1416 - accuracy: 0.3125 - val_loss: 5.1416 - val_accuracy: 0.3125\n",
            "Epoch 12/55\n",
            "1/1 [==============================] - 0s 46ms/step - loss: 5.1416 - accuracy: 0.3125 - val_loss: 5.1416 - val_accuracy: 0.3125\n",
            "Epoch 13/55\n",
            "1/1 [==============================] - 0s 45ms/step - loss: 5.1416 - accuracy: 0.3125 - val_loss: 5.1416 - val_accuracy: 0.3125\n",
            "Epoch 14/55\n",
            "1/1 [==============================] - 0s 51ms/step - loss: 5.1416 - accuracy: 0.3125 - val_loss: 5.1416 - val_accuracy: 0.3125\n",
            "Epoch 15/55\n",
            "1/1 [==============================] - 0s 61ms/step - loss: 5.1416 - accuracy: 0.3125 - val_loss: 5.1416 - val_accuracy: 0.3125\n",
            "Epoch 16/55\n",
            "1/1 [==============================] - 0s 63ms/step - loss: 5.1416 - accuracy: 0.3125 - val_loss: 5.1416 - val_accuracy: 0.3125\n",
            "Epoch 17/55\n",
            "1/1 [==============================] - 0s 54ms/step - loss: 5.1416 - accuracy: 0.3125 - val_loss: 5.1416 - val_accuracy: 0.3125\n",
            "Epoch 18/55\n",
            "1/1 [==============================] - 0s 69ms/step - loss: 5.1416 - accuracy: 0.3125 - val_loss: 5.1416 - val_accuracy: 0.3125\n",
            "Epoch 19/55\n",
            "1/1 [==============================] - 0s 64ms/step - loss: 5.1416 - accuracy: 0.3125 - val_loss: 5.1416 - val_accuracy: 0.3125\n",
            "Epoch 20/55\n",
            "1/1 [==============================] - 0s 43ms/step - loss: 5.1416 - accuracy: 0.3125 - val_loss: 5.1416 - val_accuracy: 0.3125\n",
            "Epoch 21/55\n",
            "1/1 [==============================] - 0s 58ms/step - loss: 5.1416 - accuracy: 0.3125 - val_loss: 5.1416 - val_accuracy: 0.3125\n",
            "Epoch 22/55\n",
            "1/1 [==============================] - 0s 44ms/step - loss: 5.1416 - accuracy: 0.3125 - val_loss: 5.1416 - val_accuracy: 0.3125\n",
            "Epoch 23/55\n",
            "1/1 [==============================] - 0s 42ms/step - loss: 5.1416 - accuracy: 0.3125 - val_loss: 5.1416 - val_accuracy: 0.3125\n",
            "Epoch 24/55\n",
            "1/1 [==============================] - 0s 41ms/step - loss: 5.1416 - accuracy: 0.3125 - val_loss: 5.1416 - val_accuracy: 0.3125\n",
            "Epoch 25/55\n",
            "1/1 [==============================] - 0s 42ms/step - loss: 5.1416 - accuracy: 0.3125 - val_loss: 5.1416 - val_accuracy: 0.3125\n",
            "Epoch 26/55\n",
            "1/1 [==============================] - 0s 41ms/step - loss: 5.1416 - accuracy: 0.3125 - val_loss: 5.1416 - val_accuracy: 0.3125\n",
            "Epoch 27/55\n",
            "1/1 [==============================] - 0s 47ms/step - loss: 5.1416 - accuracy: 0.3125 - val_loss: 5.1416 - val_accuracy: 0.3125\n",
            "Epoch 28/55\n",
            "1/1 [==============================] - 0s 57ms/step - loss: 5.1416 - accuracy: 0.3125 - val_loss: 5.1416 - val_accuracy: 0.3125\n",
            "Epoch 29/55\n",
            "1/1 [==============================] - 0s 41ms/step - loss: 5.1416 - accuracy: 0.3125 - val_loss: 5.1416 - val_accuracy: 0.3125\n",
            "Epoch 30/55\n",
            "1/1 [==============================] - 0s 58ms/step - loss: 5.1416 - accuracy: 0.3125 - val_loss: 5.1416 - val_accuracy: 0.3125\n",
            "Epoch 31/55\n",
            "1/1 [==============================] - 0s 43ms/step - loss: 5.1416 - accuracy: 0.3125 - val_loss: 5.1416 - val_accuracy: 0.3125\n",
            "Epoch 32/55\n",
            "1/1 [==============================] - 0s 43ms/step - loss: 5.1416 - accuracy: 0.3125 - val_loss: 5.1416 - val_accuracy: 0.3125\n",
            "Epoch 33/55\n",
            "1/1 [==============================] - 0s 43ms/step - loss: 5.1416 - accuracy: 0.3125 - val_loss: 5.1416 - val_accuracy: 0.3125\n",
            "Epoch 34/55\n",
            "1/1 [==============================] - 0s 42ms/step - loss: 5.1416 - accuracy: 0.3125 - val_loss: 5.1416 - val_accuracy: 0.3125\n",
            "Epoch 35/55\n",
            "1/1 [==============================] - 0s 42ms/step - loss: 5.1416 - accuracy: 0.3125 - val_loss: 5.1416 - val_accuracy: 0.3125\n",
            "Epoch 36/55\n",
            "1/1 [==============================] - 0s 47ms/step - loss: 5.1416 - accuracy: 0.3125 - val_loss: 5.1416 - val_accuracy: 0.3125\n",
            "Epoch 37/55\n",
            "1/1 [==============================] - 0s 44ms/step - loss: 5.1416 - accuracy: 0.3125 - val_loss: 5.1416 - val_accuracy: 0.3125\n",
            "Epoch 38/55\n",
            "1/1 [==============================] - 0s 41ms/step - loss: 5.1416 - accuracy: 0.3125 - val_loss: 5.1416 - val_accuracy: 0.3125\n",
            "Epoch 39/55\n",
            "1/1 [==============================] - 0s 44ms/step - loss: 5.1416 - accuracy: 0.3125 - val_loss: 5.1416 - val_accuracy: 0.3125\n",
            "Epoch 40/55\n",
            "1/1 [==============================] - 0s 44ms/step - loss: 5.1416 - accuracy: 0.3125 - val_loss: 5.1416 - val_accuracy: 0.3125\n",
            "Epoch 41/55\n",
            "1/1 [==============================] - 0s 49ms/step - loss: 5.1416 - accuracy: 0.3125 - val_loss: 5.1416 - val_accuracy: 0.3125\n",
            "Epoch 42/55\n",
            "1/1 [==============================] - 0s 44ms/step - loss: 5.1416 - accuracy: 0.3125 - val_loss: 5.1416 - val_accuracy: 0.3125\n",
            "Epoch 43/55\n",
            "1/1 [==============================] - 0s 43ms/step - loss: 5.1416 - accuracy: 0.3125 - val_loss: 5.1416 - val_accuracy: 0.3125\n",
            "Epoch 44/55\n",
            "1/1 [==============================] - 0s 63ms/step - loss: 5.1416 - accuracy: 0.3125 - val_loss: 5.1416 - val_accuracy: 0.3125\n",
            "Epoch 45/55\n",
            "1/1 [==============================] - 0s 68ms/step - loss: 5.1416 - accuracy: 0.3125 - val_loss: 5.1416 - val_accuracy: 0.3125\n",
            "Epoch 46/55\n",
            "1/1 [==============================] - 0s 72ms/step - loss: 5.1416 - accuracy: 0.3125 - val_loss: 5.1416 - val_accuracy: 0.3125\n",
            "Epoch 47/55\n",
            "1/1 [==============================] - 0s 49ms/step - loss: 5.1416 - accuracy: 0.3125 - val_loss: 5.1416 - val_accuracy: 0.3125\n",
            "Epoch 48/55\n",
            "1/1 [==============================] - 0s 44ms/step - loss: 5.1416 - accuracy: 0.3125 - val_loss: 5.1416 - val_accuracy: 0.3125\n",
            "Epoch 49/55\n",
            "1/1 [==============================] - 0s 44ms/step - loss: 5.1416 - accuracy: 0.3125 - val_loss: 5.1416 - val_accuracy: 0.3125\n",
            "Epoch 50/55\n",
            "1/1 [==============================] - 0s 41ms/step - loss: 5.1416 - accuracy: 0.3125 - val_loss: 5.1416 - val_accuracy: 0.3125\n",
            "Epoch 51/55\n",
            "1/1 [==============================] - 0s 42ms/step - loss: 5.1416 - accuracy: 0.3125 - val_loss: 5.1416 - val_accuracy: 0.3125\n",
            "Epoch 52/55\n",
            "1/1 [==============================] - 0s 48ms/step - loss: 5.1416 - accuracy: 0.3125 - val_loss: 5.1416 - val_accuracy: 0.3125\n",
            "Epoch 53/55\n",
            "1/1 [==============================] - 0s 42ms/step - loss: 5.1416 - accuracy: 0.3125 - val_loss: 5.1416 - val_accuracy: 0.3125\n",
            "Epoch 54/55\n",
            "1/1 [==============================] - 0s 42ms/step - loss: 5.1416 - accuracy: 0.3125 - val_loss: 5.1416 - val_accuracy: 0.3125\n",
            "Epoch 55/55\n",
            "1/1 [==============================] - 0s 63ms/step - loss: 5.1416 - accuracy: 0.3125 - val_loss: 5.1416 - val_accuracy: 0.3125\n"
          ]
        }
      ]
    },
    {
      "cell_type": "code",
      "source": [
        "plt.plot(history.history['accuracy'])\n",
        "plt.plot(history.history['val_accuracy'], 'r--')\n",
        "plt.title('Precisión del modelo')\n",
        "plt.xlabel('Epocas')\n",
        "plt.ylabel('Precisión')\n",
        "plt.legend(['Entrenamiento', 'Prueba'], loc='upper left')\n",
        "plt.savefig('figura01.png', dpi=300)\n",
        "plt.show"
      ],
      "metadata": {
        "id": "edHBuIfUfEJy",
        "colab": {
          "base_uri": "https://localhost:8080/",
          "height": 489
        },
        "outputId": "931632fe-29aa-4f8e-f825-5c4b4f794826"
      },
      "execution_count": 18,
      "outputs": [
        {
          "output_type": "execute_result",
          "data": {
            "text/plain": [
              "<function matplotlib.pyplot.show(close=None, block=None)>"
            ]
          },
          "metadata": {},
          "execution_count": 18
        },
        {
          "output_type": "display_data",
          "data": {
            "text/plain": [
              "<Figure size 640x480 with 1 Axes>"
            ],
            "image/png": "[encoded data removed]"
          },
          "metadata": {}
        }
      ]
    },
    {
      "cell_type": "code",
      "source": [
        "plt.plot(history.history['loss'])\n",
        "plt.plot(history.history['val_loss'],'r--')\n",
        "plt.title('Perdidas del modelo')\n",
        "plt.ylabel('Perdidas')\n",
        "plt.xlabel('Epocas')\n",
        "plt.legend(['Entrenamiento','Prueba'], loc='upper left')\n",
        "plt.savefig('figura02.png', dpi=300)\n",
        "plt.show"
      ],
      "metadata": {
        "id": "pPz3Ub7HfEQ7",
        "colab": {
          "base_uri": "https://localhost:8080/",
          "height": 489
        },
        "outputId": "417b92aa-3c0a-4a06-aff4-5b5d6571cea2"
      },
      "execution_count": 19,
      "outputs": [
        {
          "output_type": "execute_result",
          "data": {
            "text/plain": [
              "<function matplotlib.pyplot.show(close=None, block=None)>"
            ]
          },
          "metadata": {},
          "execution_count": 19
        },
        {
          "output_type": "display_data",
          "data": {
            "text/plain": [
              "<Figure size 640x480 with 1 Axes>"
            ],
            "image/png": "[encoded data removed]"
          },
          "metadata": {}
        }
      ]
    },
    {
      "cell_type": "code",
      "source": [
        "model.summary()"
      ],
      "metadata": {
        "id": "tU5tyFxBhNmc",
        "colab": {
          "base_uri": "https://localhost:8080/"
        },
        "outputId": "5749b334-3754-414c-acd4-aea0de59472c"
      },
      "execution_count": 20,
      "outputs": [
        {
          "output_type": "stream",
          "name": "stdout",
          "text": [
            "Model: \"sequential\"\n",
            "_________________________________________________________________\n",
            " Layer (type)                Output Shape              Param #   \n",
            "=================================================================\n",
            " dense (Dense)               (None, 44)                2508      \n",
            "                                                                 \n",
            " dense_1 (Dense)             (None, 40)                1800      \n",
            "                                                                 \n",
            " dense_2 (Dense)             (None, 38)                1558      \n",
            "                                                                 \n",
            " dense_3 (Dense)             (None, 36)                1404      \n",
            "                                                                 \n",
            " dense_4 (Dense)             (None, 34)                1258      \n",
            "                                                                 \n",
            " dense_5 (Dense)             (None, 32)                1120      \n",
            "                                                                 \n",
            " dense_6 (Dense)             (None, 30)                990       \n",
            "                                                                 \n",
            " dense_7 (Dense)             (None, 28)                868       \n",
            "                                                                 \n",
            " dense_8 (Dense)             (None, 26)                754       \n",
            "                                                                 \n",
            " dense_9 (Dense)             (None, 24)                648       \n",
            "                                                                 \n",
            " dense_10 (Dense)            (None, 22)                550       \n",
            "                                                                 \n",
            " dense_11 (Dense)            (None, 20)                460       \n",
            "                                                                 \n",
            " dense_12 (Dense)            (None, 18)                378       \n",
            "                                                                 \n",
            " dense_13 (Dense)            (None, 16)                304       \n",
            "                                                                 \n",
            " dense_14 (Dense)            (None, 14)                238       \n",
            "                                                                 \n",
            " dense_15 (Dense)            (None, 12)                180       \n",
            "                                                                 \n",
            " dense_16 (Dense)            (None, 10)                130       \n",
            "                                                                 \n",
            " dense_17 (Dense)            (None, 8)                 88        \n",
            "                                                                 \n",
            " dense_18 (Dense)            (None, 6)                 54        \n",
            "                                                                 \n",
            " dense_19 (Dense)            (None, 4)                 28        \n",
            "                                                                 \n",
            " dense_20 (Dense)            (None, 2)                 10        \n",
            "                                                                 \n",
            " dense_21 (Dense)            (None, 3)                 9         \n",
            "                                                                 \n",
            "=================================================================\n",
            "Total params: 15,337\n",
            "Trainable params: 15,337\n",
            "Non-trainable params: 0\n",
            "_________________________________________________________________\n"
          ]
        }
      ]
    }
  ]
}