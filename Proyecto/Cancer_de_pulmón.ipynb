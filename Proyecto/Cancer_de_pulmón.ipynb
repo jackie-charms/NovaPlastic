{
  "nbformat": 4,
  "nbformat_minor": 0,
  "metadata": {
    "colab": {
      "provenance": [],
      "mount_file_id": "1vwV4hDTkLI_H9ljnrTIztp3N5HrbAXWL",
      "authorship_tag": "ABX9TyNIhbBjhVlq7UM5yQQhGsU9",
      "include_colab_link": true
    },
    "kernelspec": {
      "name": "python3",
      "display_name": "Python 3"
    },
    "language_info": {
      "name": "python"
    },
    "accelerator": "GPU",
    "gpuClass": "standard"
  },
  "cells": [
    {
      "cell_type": "markdown",
      "metadata": {
        "id": "view-in-github",
        "colab_type": "text"
      },
      "source": [
        "<a href=\"https://colab.research.google.com/github/jackie-charms/NovaPlastic/blob/master/Proyecto/Cancer_de_pulm%C3%B3n.ipynb\" target=\"_parent\"><img src=\"https://colab.research.google.com/assets/colab-badge.svg\" alt=\"Open In Colab\"/></a>"
      ]
    },
    {
      "cell_type": "code",
      "execution_count": 1,
      "metadata": {
        "id": "G_5eN2iMcFDn"
      },
      "outputs": [],
      "source": [
        "from keras.models import Sequential\n",
        "from keras.layers import Dense\n",
        "from tensorflow import keras\n",
        "from tensorflow.keras import layers\n",
        "import numpy as np\n",
        "import matplotlib.pyplot as plt #para graficar"
      ]
    },
    {
      "cell_type": "code",
      "source": [
        "from sklearn.model_selection import train_test_split\n",
        "from sklearn.preprocessing import OneHotEncoder\n",
        "from sklearn.preprocessing import MinMaxScaler"
      ],
      "metadata": {
        "id": "6lryTD9PcxH1"
      },
      "execution_count": 2,
      "outputs": []
    },
    {
      "cell_type": "code",
      "source": [
        "#importar la base de datos\n",
        "dataset = np.loadtxt('/content/drive/MyDrive/Colab Notebooks/lung-cancer_final.data', delimiter=',')"
      ],
      "metadata": {
        "id": "nEDL_oa7czMY"
      },
      "execution_count": 3,
      "outputs": []
    },
    {
      "cell_type": "code",
      "source": [
        "dataset"
      ],
      "metadata": {
        "colab": {
          "base_uri": "https://localhost:8080/"
        },
        "id": "ftjT-JnWdG1r",
        "outputId": "7c808fdf-e02c-47c1-85f8-ca82965eae77"
      },
      "execution_count": 4,
      "outputs": [
        {
          "output_type": "execute_result",
          "data": {
            "text/plain": [
              "array([[0., 0., 1., ..., 1., 2., 2.],\n",
              "       [0., 0., 1., ..., 1., 2., 2.],\n",
              "       [0., 0., 1., ..., 2., 1., 2.],\n",
              "       ...,\n",
              "       [1., 0., 0., ..., 2., 2., 1.],\n",
              "       [1., 0., 0., ..., 1., 2., 2.],\n",
              "       [1., 0., 0., ..., 2., 2., 2.]])"
            ]
          },
          "metadata": {},
          "execution_count": 4
        }
      ]
    },
    {
      "cell_type": "code",
      "source": [
        "X = dataset[:, 3:59] #entrada deseada\n",
        "Y = dataset[:, 0:3] #salida deseada"
      ],
      "metadata": {
        "id": "tzaQl3yfi7Yw"
      },
      "execution_count": 5,
      "outputs": []
    },
    {
      "cell_type": "code",
      "source": [
        "Y"
      ],
      "metadata": {
        "colab": {
          "base_uri": "https://localhost:8080/"
        },
        "id": "gPlnE6sgdMi0",
        "outputId": "ed4e33f0-3d78-42b9-9d16-21907b11f63c"
      },
      "execution_count": 6,
      "outputs": [
        {
          "output_type": "execute_result",
          "data": {
            "text/plain": [
              "array([[0., 0., 1.],\n",
              "       [0., 0., 1.],\n",
              "       [0., 0., 1.],\n",
              "       [0., 0., 1.],\n",
              "       [0., 0., 1.],\n",
              "       [0., 0., 1.],\n",
              "       [0., 0., 1.],\n",
              "       [0., 0., 1.],\n",
              "       [0., 0., 1.],\n",
              "       [0., 1., 0.],\n",
              "       [0., 1., 0.],\n",
              "       [0., 1., 0.],\n",
              "       [0., 1., 0.],\n",
              "       [0., 1., 0.],\n",
              "       [0., 1., 0.],\n",
              "       [0., 1., 0.],\n",
              "       [0., 1., 0.],\n",
              "       [0., 1., 0.],\n",
              "       [0., 1., 0.],\n",
              "       [0., 1., 0.],\n",
              "       [0., 1., 0.],\n",
              "       [0., 1., 0.],\n",
              "       [1., 0., 0.],\n",
              "       [1., 0., 0.],\n",
              "       [1., 0., 0.],\n",
              "       [1., 0., 0.],\n",
              "       [1., 0., 0.],\n",
              "       [1., 0., 0.],\n",
              "       [1., 0., 0.],\n",
              "       [1., 0., 0.],\n",
              "       [1., 0., 0.],\n",
              "       [1., 0., 0.]])"
            ]
          },
          "metadata": {},
          "execution_count": 6
        }
      ]
    },
    {
      "cell_type": "code",
      "source": [
        "X.shape"
      ],
      "metadata": {
        "colab": {
          "base_uri": "https://localhost:8080/"
        },
        "id": "93I7sDhPWsBw",
        "outputId": "abcfee3e-a7d5-4015-e841-1b39eaabb70e"
      },
      "execution_count": 7,
      "outputs": [
        {
          "output_type": "execute_result",
          "data": {
            "text/plain": [
              "(32, 56)"
            ]
          },
          "metadata": {},
          "execution_count": 7
        }
      ]
    },
    {
      "cell_type": "code",
      "source": [
        "X[1,:]"
      ],
      "metadata": {
        "colab": {
          "base_uri": "https://localhost:8080/"
        },
        "id": "SQZ7kOiSXAdx",
        "outputId": "1836421e-14c5-48a6-e337-88afc1f992c6"
      },
      "execution_count": 8,
      "outputs": [
        {
          "output_type": "execute_result",
          "data": {
            "text/plain": [
              "array([0., 3., 3., 1., 0., 3., 1., 3., 1., 1., 1., 1., 1., 3., 3., 1., 2.,\n",
              "       2., 0., 0., 2., 2., 2., 1., 2., 1., 3., 2., 3., 1., 1., 1., 3., 3.,\n",
              "       2., 2., 2., 1., 2., 2., 2., 1., 2., 2., 1., 2., 2., 2., 2., 2., 2.,\n",
              "       2., 2., 1., 2., 2.])"
            ]
          },
          "metadata": {},
          "execution_count": 8
        }
      ]
    },
    {
      "cell_type": "code",
      "source": [
        "Y.shape"
      ],
      "metadata": {
        "colab": {
          "base_uri": "https://localhost:8080/"
        },
        "id": "ZkRpbP-pWxhQ",
        "outputId": "46b6b76e-c2e3-4093-e172-1b4957ef1b12"
      },
      "execution_count": 9,
      "outputs": [
        {
          "output_type": "execute_result",
          "data": {
            "text/plain": [
              "(32, 3)"
            ]
          },
          "metadata": {},
          "execution_count": 9
        }
      ]
    },
    {
      "cell_type": "code",
      "source": [
        "#normalizar el mínimo y máximo (el rango)\n",
        "scaler = MinMaxScaler(feature_range= (0, 1))\n",
        "X= scaler.fit_transform(X)"
      ],
      "metadata": {
        "id": "8u0osjGzdPKD"
      },
      "execution_count": 10,
      "outputs": []
    },
    {
      "cell_type": "code",
      "source": [
        "X"
      ],
      "metadata": {
        "colab": {
          "base_uri": "https://localhost:8080/"
        },
        "id": "1DtmBthBdPS7",
        "outputId": "9782755a-95ea-4f9e-df54-18c3a69147fd"
      },
      "execution_count": 11,
      "outputs": [
        {
          "output_type": "execute_result",
          "data": {
            "text/plain": [
              "array([[0.        , 1.        , 0.        , ..., 0.        , 1.        ,\n",
              "        1.        ],\n",
              "       [0.        , 1.        , 1.        , ..., 0.        , 1.        ,\n",
              "        1.        ],\n",
              "       [0.        , 1.        , 1.        , ..., 1.        , 0.        ,\n",
              "        1.        ],\n",
              "       ...,\n",
              "       [0.        , 0.5       , 0.33333333, ..., 1.        , 1.        ,\n",
              "        0.        ],\n",
              "       [0.        , 0.5       , 1.        , ..., 0.        , 1.        ,\n",
              "        1.        ],\n",
              "       [0.        , 0.5       , 1.        , ..., 1.        , 1.        ,\n",
              "        1.        ]])"
            ]
          },
          "metadata": {},
          "execution_count": 11
        }
      ]
    },
    {
      "cell_type": "code",
      "source": [
        "x_train, x_test, y_train, y_test = train_test_split(X, Y, test_size= 0.5)"
      ],
      "metadata": {
        "id": "7LxxpSp_dUO7"
      },
      "execution_count": 12,
      "outputs": []
    },
    {
      "cell_type": "code",
      "source": [
        "x_train.shape"
      ],
      "metadata": {
        "colab": {
          "base_uri": "https://localhost:8080/"
        },
        "id": "Tw2SHz__dUc8",
        "outputId": "1ff1f0bc-fb18-4264-8b73-80957be11cff"
      },
      "execution_count": 13,
      "outputs": [
        {
          "output_type": "execute_result",
          "data": {
            "text/plain": [
              "(16, 56)"
            ]
          },
          "metadata": {},
          "execution_count": 13
        }
      ]
    },
    {
      "cell_type": "code",
      "source": [
        "y_train.shape"
      ],
      "metadata": {
        "colab": {
          "base_uri": "https://localhost:8080/"
        },
        "id": "u0N1ptyDdkxI",
        "outputId": "d4806959-4057-47b9-b159-1158d630af5a"
      },
      "execution_count": 14,
      "outputs": [
        {
          "output_type": "execute_result",
          "data": {
            "text/plain": [
              "(16, 3)"
            ]
          },
          "metadata": {},
          "execution_count": 14
        }
      ]
    },
    {
      "cell_type": "code",
      "source": [
        "model = Sequential()\n",
        "model.add(Dense(55, input_dim= 56, activation= 'tanh'))\n",
        "\n",
        "model.add(Dense(53, activation= 'tanh'))\n",
        "model.add(Dense(51, activation= 'tanh'))\n",
        "\n",
        "model.add(Dense(49, activation= 'tanh'))\n",
        "model.add(Dense(47, activation= 'tanh'))\n",
        "\n",
        "model.add(Dense(45, activation= 'tanh'))\n",
        "model.add(Dense(43, activation= 'tanh'))\n",
        "\n",
        "model.add(Dense(41, activation= 'tanh'))\n",
        "model.add(Dense(39, activation= 'tanh'))\n",
        "\n",
        "model.add(Dense(37, activation= 'tanh'))\n",
        "model.add(Dense(35, activation= 'tanh'))\n",
        "\n",
        "model.add(Dense(33, activation= 'tanh'))\n",
        "model.add(Dense(31, activation= 'tanh'))\n",
        "\n",
        "model.add(Dense(29, activation= 'tanh'))\n",
        "model.add(Dense(27, activation= 'tanh'))\n",
        "\n",
        "model.add(Dense(25, activation= 'tanh'))\n",
        "model.add(Dense(23, activation= 'tanh'))\n",
        "\n",
        "model.add(Dense(21, activation= 'tanh'))\n",
        "model.add(Dense(19, activation= 'tanh'))\n",
        "\n",
        "model.add(Dense(17, activation= 'tanh'))\n",
        "model.add(Dense(15, activation= 'tanh'))\n",
        "\n",
        "model.add(Dense(13, activation= 'tanh'))\n",
        "model.add(Dense(11, activation= 'tanh'))\n",
        "\n",
        "model.add(Dense(9, activation= 'tanh'))\n",
        "model.add(Dense(7, activation= 'tanh'))\n",
        "\n",
        "model.add(Dense(5, activation= 'tanh'))\n",
        "model.add(Dense(3, activation= 'tanh'))"
      ],
      "metadata": {
        "id": "V8g5zAVAdk7U"
      },
      "execution_count": 15,
      "outputs": []
    },
    {
      "cell_type": "code",
      "source": [
        "model.compile(loss='binary_crossentropy', optimizer='Adam', metrics=['accuracy'])"
      ],
      "metadata": {
        "id": "DJh77XRCeAz5"
      },
      "execution_count": 16,
      "outputs": []
    },
    {
      "cell_type": "code",
      "source": [
        "history = model.fit(x_train, y_train, validation_data=(x_test, y_test), epochs= 100, batch_size= 50)"
      ],
      "metadata": {
        "colab": {
          "base_uri": "https://localhost:8080/"
        },
        "id": "dyGajSuPeA7d",
        "outputId": "1b949d66-4a6e-4a87-eb13-766334b90885"
      },
      "execution_count": 17,
      "outputs": [
        {
          "output_type": "stream",
          "name": "stdout",
          "text": [
            "Epoch 1/100\n",
            "1/1 [==============================] - 21s 21s/step - loss: 3.5768 - accuracy: 0.3125 - val_loss: 3.2966 - val_accuracy: 0.2500\n",
            "Epoch 2/100\n",
            "1/1 [==============================] - 0s 46ms/step - loss: 3.2447 - accuracy: 0.3125 - val_loss: 1.9677 - val_accuracy: 0.2500\n",
            "Epoch 3/100\n",
            "1/1 [==============================] - 0s 56ms/step - loss: 2.0644 - accuracy: 0.4375 - val_loss: 0.9014 - val_accuracy: 0.6875\n",
            "Epoch 4/100\n",
            "1/1 [==============================] - 0s 62ms/step - loss: 0.6374 - accuracy: 0.4375 - val_loss: 0.9292 - val_accuracy: 0.5000\n",
            "Epoch 5/100\n",
            "1/1 [==============================] - 0s 53ms/step - loss: 0.6830 - accuracy: 0.5000 - val_loss: 1.1049 - val_accuracy: 0.5000\n",
            "Epoch 6/100\n",
            "1/1 [==============================] - 0s 54ms/step - loss: 0.5578 - accuracy: 0.6875 - val_loss: 1.1191 - val_accuracy: 0.5000\n",
            "Epoch 7/100\n",
            "1/1 [==============================] - 0s 51ms/step - loss: 0.6405 - accuracy: 0.5000 - val_loss: 0.5912 - val_accuracy: 0.4375\n",
            "Epoch 8/100\n",
            "1/1 [==============================] - 0s 67ms/step - loss: 0.5268 - accuracy: 0.6250 - val_loss: 2.0343 - val_accuracy: 0.3125\n",
            "Epoch 9/100\n",
            "1/1 [==============================] - 0s 47ms/step - loss: 1.9983 - accuracy: 0.3750 - val_loss: 2.0771 - val_accuracy: 0.2500\n",
            "Epoch 10/100\n",
            "1/1 [==============================] - 0s 45ms/step - loss: 2.0404 - accuracy: 0.3125 - val_loss: 2.1068 - val_accuracy: 0.2500\n",
            "Epoch 11/100\n",
            "1/1 [==============================] - 0s 44ms/step - loss: 2.0690 - accuracy: 0.3125 - val_loss: 2.1251 - val_accuracy: 0.2500\n",
            "Epoch 12/100\n",
            "1/1 [==============================] - 0s 58ms/step - loss: 2.0868 - accuracy: 0.3125 - val_loss: 2.1360 - val_accuracy: 0.2500\n",
            "Epoch 13/100\n",
            "1/1 [==============================] - 0s 68ms/step - loss: 2.0976 - accuracy: 0.3125 - val_loss: 2.1423 - val_accuracy: 0.2500\n",
            "Epoch 14/100\n",
            "1/1 [==============================] - 0s 66ms/step - loss: 2.1039 - accuracy: 0.3125 - val_loss: 2.1455 - val_accuracy: 0.2500\n",
            "Epoch 15/100\n",
            "1/1 [==============================] - 0s 56ms/step - loss: 2.1075 - accuracy: 0.3125 - val_loss: 2.1468 - val_accuracy: 0.2500\n",
            "Epoch 16/100\n",
            "1/1 [==============================] - 0s 49ms/step - loss: 2.1092 - accuracy: 0.3125 - val_loss: 2.1467 - val_accuracy: 0.2500\n",
            "Epoch 17/100\n",
            "1/1 [==============================] - 0s 65ms/step - loss: 2.1096 - accuracy: 0.3125 - val_loss: 2.1456 - val_accuracy: 0.2500\n",
            "Epoch 18/100\n",
            "1/1 [==============================] - 0s 53ms/step - loss: 2.1092 - accuracy: 0.3125 - val_loss: 2.1439 - val_accuracy: 0.2500\n",
            "Epoch 19/100\n",
            "1/1 [==============================] - 0s 61ms/step - loss: 2.1083 - accuracy: 0.3125 - val_loss: 2.1418 - val_accuracy: 0.2500\n",
            "Epoch 20/100\n",
            "1/1 [==============================] - 0s 67ms/step - loss: 2.1069 - accuracy: 0.3125 - val_loss: 2.1394 - val_accuracy: 0.2500\n",
            "Epoch 21/100\n",
            "1/1 [==============================] - 0s 64ms/step - loss: 2.1054 - accuracy: 0.3125 - val_loss: 2.1368 - val_accuracy: 0.2500\n",
            "Epoch 22/100\n",
            "1/1 [==============================] - 0s 74ms/step - loss: 2.1036 - accuracy: 0.3125 - val_loss: 2.1341 - val_accuracy: 0.2500\n",
            "Epoch 23/100\n",
            "1/1 [==============================] - 0s 74ms/step - loss: 2.1018 - accuracy: 0.3125 - val_loss: 2.1314 - val_accuracy: 0.2500\n",
            "Epoch 24/100\n",
            "1/1 [==============================] - 0s 50ms/step - loss: 2.1000 - accuracy: 0.3125 - val_loss: 2.1287 - val_accuracy: 0.2500\n",
            "Epoch 25/100\n",
            "1/1 [==============================] - 0s 66ms/step - loss: 2.0981 - accuracy: 0.3125 - val_loss: 2.1260 - val_accuracy: 0.2500\n",
            "Epoch 26/100\n",
            "1/1 [==============================] - 0s 45ms/step - loss: 2.0963 - accuracy: 0.3125 - val_loss: 2.1233 - val_accuracy: 0.2500\n",
            "Epoch 27/100\n",
            "1/1 [==============================] - 0s 69ms/step - loss: 2.0945 - accuracy: 0.3125 - val_loss: 2.1207 - val_accuracy: 0.2500\n",
            "Epoch 28/100\n",
            "1/1 [==============================] - 0s 71ms/step - loss: 2.0927 - accuracy: 0.3125 - val_loss: 2.1182 - val_accuracy: 0.2500\n",
            "Epoch 29/100\n",
            "1/1 [==============================] - 0s 59ms/step - loss: 2.0910 - accuracy: 0.3125 - val_loss: 2.1157 - val_accuracy: 0.2500\n",
            "Epoch 30/100\n",
            "1/1 [==============================] - 0s 61ms/step - loss: 2.0893 - accuracy: 0.3125 - val_loss: 2.1132 - val_accuracy: 0.2500\n",
            "Epoch 31/100\n",
            "1/1 [==============================] - 0s 47ms/step - loss: 2.0876 - accuracy: 0.3125 - val_loss: 2.1109 - val_accuracy: 0.2500\n",
            "Epoch 32/100\n",
            "1/1 [==============================] - 0s 50ms/step - loss: 2.0860 - accuracy: 0.3125 - val_loss: 2.1085 - val_accuracy: 0.2500\n",
            "Epoch 33/100\n",
            "1/1 [==============================] - 0s 50ms/step - loss: 2.0845 - accuracy: 0.3125 - val_loss: 2.1063 - val_accuracy: 0.2500\n",
            "Epoch 34/100\n",
            "1/1 [==============================] - 0s 61ms/step - loss: 2.0829 - accuracy: 0.3125 - val_loss: 2.1041 - val_accuracy: 0.2500\n",
            "Epoch 35/100\n",
            "1/1 [==============================] - 0s 48ms/step - loss: 2.0814 - accuracy: 0.3125 - val_loss: 2.1019 - val_accuracy: 0.2500\n",
            "Epoch 36/100\n",
            "1/1 [==============================] - 0s 71ms/step - loss: 2.0800 - accuracy: 0.3125 - val_loss: 2.0998 - val_accuracy: 0.2500\n",
            "Epoch 37/100\n",
            "1/1 [==============================] - 0s 75ms/step - loss: 2.0785 - accuracy: 0.3125 - val_loss: 2.0977 - val_accuracy: 0.2500\n",
            "Epoch 38/100\n",
            "1/1 [==============================] - 0s 73ms/step - loss: 2.0771 - accuracy: 0.3125 - val_loss: 2.0956 - val_accuracy: 0.2500\n",
            "Epoch 39/100\n",
            "1/1 [==============================] - 0s 59ms/step - loss: 2.0757 - accuracy: 0.3125 - val_loss: 2.0936 - val_accuracy: 0.2500\n",
            "Epoch 40/100\n",
            "1/1 [==============================] - 0s 55ms/step - loss: 2.0743 - accuracy: 0.3125 - val_loss: 2.0916 - val_accuracy: 0.2500\n",
            "Epoch 41/100\n",
            "1/1 [==============================] - 0s 57ms/step - loss: 2.0729 - accuracy: 0.3125 - val_loss: 2.0897 - val_accuracy: 0.2500\n",
            "Epoch 42/100\n",
            "1/1 [==============================] - 0s 66ms/step - loss: 2.0715 - accuracy: 0.3125 - val_loss: 2.0878 - val_accuracy: 0.2500\n",
            "Epoch 43/100\n",
            "1/1 [==============================] - 0s 59ms/step - loss: 2.0702 - accuracy: 0.3125 - val_loss: 2.0859 - val_accuracy: 0.2500\n",
            "Epoch 44/100\n",
            "1/1 [==============================] - 0s 46ms/step - loss: 2.0689 - accuracy: 0.3125 - val_loss: 2.0840 - val_accuracy: 0.2500\n",
            "Epoch 45/100\n",
            "1/1 [==============================] - 0s 65ms/step - loss: 2.0676 - accuracy: 0.3125 - val_loss: 2.0821 - val_accuracy: 0.2500\n",
            "Epoch 46/100\n",
            "1/1 [==============================] - 0s 50ms/step - loss: 2.0662 - accuracy: 0.3125 - val_loss: 2.0803 - val_accuracy: 0.2500\n",
            "Epoch 47/100\n",
            "1/1 [==============================] - 0s 61ms/step - loss: 2.0649 - accuracy: 0.3125 - val_loss: 2.0785 - val_accuracy: 0.2500\n",
            "Epoch 48/100\n",
            "1/1 [==============================] - 0s 49ms/step - loss: 2.0637 - accuracy: 0.3125 - val_loss: 2.0767 - val_accuracy: 0.2500\n",
            "Epoch 49/100\n",
            "1/1 [==============================] - 0s 59ms/step - loss: 2.0624 - accuracy: 0.3125 - val_loss: 2.0749 - val_accuracy: 0.2500\n",
            "Epoch 50/100\n",
            "1/1 [==============================] - 0s 50ms/step - loss: 2.0611 - accuracy: 0.3125 - val_loss: 2.0732 - val_accuracy: 0.2500\n",
            "Epoch 51/100\n",
            "1/1 [==============================] - 0s 60ms/step - loss: 2.0599 - accuracy: 0.3125 - val_loss: 2.0714 - val_accuracy: 0.2500\n",
            "Epoch 52/100\n",
            "1/1 [==============================] - 0s 54ms/step - loss: 2.0586 - accuracy: 0.3125 - val_loss: 2.0697 - val_accuracy: 0.2500\n",
            "Epoch 53/100\n",
            "1/1 [==============================] - 0s 43ms/step - loss: 2.0574 - accuracy: 0.3125 - val_loss: 2.0680 - val_accuracy: 0.2500\n",
            "Epoch 54/100\n",
            "1/1 [==============================] - 0s 62ms/step - loss: 2.0561 - accuracy: 0.3125 - val_loss: 2.0663 - val_accuracy: 0.2500\n",
            "Epoch 55/100\n",
            "1/1 [==============================] - 0s 62ms/step - loss: 2.0549 - accuracy: 0.3125 - val_loss: 2.0646 - val_accuracy: 0.2500\n",
            "Epoch 56/100\n",
            "1/1 [==============================] - 0s 44ms/step - loss: 2.0537 - accuracy: 0.3125 - val_loss: 2.0629 - val_accuracy: 0.2500\n",
            "Epoch 57/100\n",
            "1/1 [==============================] - 0s 62ms/step - loss: 2.0525 - accuracy: 0.3125 - val_loss: 2.0612 - val_accuracy: 0.2500\n",
            "Epoch 58/100\n",
            "1/1 [==============================] - 0s 50ms/step - loss: 2.0513 - accuracy: 0.3125 - val_loss: 2.0596 - val_accuracy: 0.2500\n",
            "Epoch 59/100\n",
            "1/1 [==============================] - 0s 67ms/step - loss: 2.0501 - accuracy: 0.3125 - val_loss: 2.0580 - val_accuracy: 0.2500\n",
            "Epoch 60/100\n",
            "1/1 [==============================] - 0s 63ms/step - loss: 2.0490 - accuracy: 0.3125 - val_loss: 2.0564 - val_accuracy: 0.2500\n",
            "Epoch 61/100\n",
            "1/1 [==============================] - 0s 69ms/step - loss: 2.0478 - accuracy: 0.3125 - val_loss: 2.0548 - val_accuracy: 0.2500\n",
            "Epoch 62/100\n",
            "1/1 [==============================] - 0s 64ms/step - loss: 2.0467 - accuracy: 0.3125 - val_loss: 2.0532 - val_accuracy: 0.2500\n",
            "Epoch 63/100\n",
            "1/1 [==============================] - 0s 57ms/step - loss: 2.0456 - accuracy: 0.3125 - val_loss: 2.0516 - val_accuracy: 0.2500\n",
            "Epoch 64/100\n",
            "1/1 [==============================] - 0s 66ms/step - loss: 2.0445 - accuracy: 0.3125 - val_loss: 2.0501 - val_accuracy: 0.2500\n",
            "Epoch 65/100\n",
            "1/1 [==============================] - 0s 49ms/step - loss: 2.0434 - accuracy: 0.3125 - val_loss: 2.0486 - val_accuracy: 0.2500\n",
            "Epoch 66/100\n",
            "1/1 [==============================] - 0s 66ms/step - loss: 2.0423 - accuracy: 0.3125 - val_loss: 2.0471 - val_accuracy: 0.2500\n",
            "Epoch 67/100\n",
            "1/1 [==============================] - 0s 52ms/step - loss: 2.0413 - accuracy: 0.3125 - val_loss: 2.0456 - val_accuracy: 0.2500\n",
            "Epoch 68/100\n",
            "1/1 [==============================] - 0s 47ms/step - loss: 2.0403 - accuracy: 0.3125 - val_loss: 2.0442 - val_accuracy: 0.2500\n",
            "Epoch 69/100\n",
            "1/1 [==============================] - 0s 71ms/step - loss: 2.0392 - accuracy: 0.3125 - val_loss: 2.0428 - val_accuracy: 0.2500\n",
            "Epoch 70/100\n",
            "1/1 [==============================] - 0s 48ms/step - loss: 2.0383 - accuracy: 0.3125 - val_loss: 2.0415 - val_accuracy: 0.2500\n",
            "Epoch 71/100\n",
            "1/1 [==============================] - 0s 58ms/step - loss: 2.0373 - accuracy: 0.3750 - val_loss: 2.0401 - val_accuracy: 0.3750\n",
            "Epoch 72/100\n",
            "1/1 [==============================] - 0s 73ms/step - loss: 2.0363 - accuracy: 0.5000 - val_loss: 2.0389 - val_accuracy: 0.4375\n",
            "Epoch 73/100\n",
            "1/1 [==============================] - 0s 63ms/step - loss: 2.0354 - accuracy: 0.6250 - val_loss: 2.0376 - val_accuracy: 0.4375\n",
            "Epoch 74/100\n",
            "1/1 [==============================] - 0s 48ms/step - loss: 2.0345 - accuracy: 0.6250 - val_loss: 2.0364 - val_accuracy: 0.4375\n",
            "Epoch 75/100\n",
            "1/1 [==============================] - 0s 51ms/step - loss: 2.0336 - accuracy: 0.5625 - val_loss: 2.0353 - val_accuracy: 0.4375\n",
            "Epoch 76/100\n",
            "1/1 [==============================] - 0s 65ms/step - loss: 2.0327 - accuracy: 0.4375 - val_loss: 2.0342 - val_accuracy: 0.4375\n",
            "Epoch 77/100\n",
            "1/1 [==============================] - 0s 67ms/step - loss: 2.0317 - accuracy: 0.4375 - val_loss: 2.0331 - val_accuracy: 0.3750\n",
            "Epoch 78/100\n",
            "1/1 [==============================] - 0s 58ms/step - loss: 2.0308 - accuracy: 0.4375 - val_loss: 2.0322 - val_accuracy: 0.4375\n",
            "Epoch 79/100\n",
            "1/1 [==============================] - 0s 59ms/step - loss: 2.0299 - accuracy: 0.4375 - val_loss: 2.0312 - val_accuracy: 0.4375\n",
            "Epoch 80/100\n",
            "1/1 [==============================] - 0s 44ms/step - loss: 2.0289 - accuracy: 0.4375 - val_loss: 2.0304 - val_accuracy: 0.4375\n",
            "Epoch 81/100\n",
            "1/1 [==============================] - 0s 58ms/step - loss: 2.0279 - accuracy: 0.4375 - val_loss: 2.0295 - val_accuracy: 0.4375\n",
            "Epoch 82/100\n",
            "1/1 [==============================] - 0s 49ms/step - loss: 2.0268 - accuracy: 0.4375 - val_loss: 2.0288 - val_accuracy: 0.4375\n",
            "Epoch 83/100\n",
            "1/1 [==============================] - 0s 60ms/step - loss: 2.0256 - accuracy: 0.4375 - val_loss: 2.0281 - val_accuracy: 0.4375\n",
            "Epoch 84/100\n",
            "1/1 [==============================] - 0s 66ms/step - loss: 2.0243 - accuracy: 0.4375 - val_loss: 2.0275 - val_accuracy: 0.3750\n",
            "Epoch 85/100\n",
            "1/1 [==============================] - 0s 58ms/step - loss: 2.0229 - accuracy: 0.4375 - val_loss: 2.0269 - val_accuracy: 0.4375\n",
            "Epoch 86/100\n",
            "1/1 [==============================] - 0s 48ms/step - loss: 2.0212 - accuracy: 0.4375 - val_loss: 2.0265 - val_accuracy: 0.4375\n",
            "Epoch 87/100\n",
            "1/1 [==============================] - 0s 60ms/step - loss: 2.0194 - accuracy: 0.4375 - val_loss: 2.0261 - val_accuracy: 0.4375\n",
            "Epoch 88/100\n",
            "1/1 [==============================] - 0s 53ms/step - loss: 2.0173 - accuracy: 0.4375 - val_loss: 2.0259 - val_accuracy: 0.4375\n",
            "Epoch 89/100\n",
            "1/1 [==============================] - 0s 44ms/step - loss: 2.0151 - accuracy: 0.5000 - val_loss: 2.0260 - val_accuracy: 0.4375\n",
            "Epoch 90/100\n",
            "1/1 [==============================] - 0s 62ms/step - loss: 2.0126 - accuracy: 0.6250 - val_loss: 2.0263 - val_accuracy: 0.5000\n",
            "Epoch 91/100\n",
            "1/1 [==============================] - 0s 58ms/step - loss: 2.0100 - accuracy: 0.6250 - val_loss: 2.0271 - val_accuracy: 0.5000\n",
            "Epoch 92/100\n",
            "1/1 [==============================] - 0s 64ms/step - loss: 2.0074 - accuracy: 0.6250 - val_loss: 2.0283 - val_accuracy: 0.5000\n",
            "Epoch 93/100\n",
            "1/1 [==============================] - 0s 62ms/step - loss: 2.0048 - accuracy: 0.6250 - val_loss: 2.0299 - val_accuracy: 0.4375\n",
            "Epoch 94/100\n",
            "1/1 [==============================] - 0s 66ms/step - loss: 2.0022 - accuracy: 0.6875 - val_loss: 2.0315 - val_accuracy: 0.4375\n",
            "Epoch 95/100\n",
            "1/1 [==============================] - 0s 47ms/step - loss: 1.9995 - accuracy: 0.6875 - val_loss: 2.0328 - val_accuracy: 0.4375\n",
            "Epoch 96/100\n",
            "1/1 [==============================] - 0s 47ms/step - loss: 1.9964 - accuracy: 0.6875 - val_loss: 2.0330 - val_accuracy: 0.4375\n",
            "Epoch 97/100\n",
            "1/1 [==============================] - 0s 69ms/step - loss: 1.9928 - accuracy: 0.6875 - val_loss: 2.0319 - val_accuracy: 0.4375\n",
            "Epoch 98/100\n",
            "1/1 [==============================] - 0s 46ms/step - loss: 1.9884 - accuracy: 0.6875 - val_loss: 2.0296 - val_accuracy: 0.4375\n",
            "Epoch 99/100\n",
            "1/1 [==============================] - 0s 62ms/step - loss: 1.9835 - accuracy: 0.6875 - val_loss: 2.0266 - val_accuracy: 0.4375\n",
            "Epoch 100/100\n",
            "1/1 [==============================] - 0s 57ms/step - loss: 1.9781 - accuracy: 0.6875 - val_loss: 2.0234 - val_accuracy: 0.5000\n"
          ]
        }
      ]
    },
    {
      "cell_type": "code",
      "source": [
        "plt.plot(history.history['accuracy'])\n",
        "plt.plot(history.history['val_accuracy'], 'r--')\n",
        "plt.title('Precisión del modelo')\n",
        "plt.xlabel('Epocas')\n",
        "plt.ylabel('Precisión')\n",
        "plt.legend(['Entrenamiento', 'Prueba'], loc='upper left')\n",
        "plt.savefig('figura01.png', dpi=300)\n",
        "plt.show"
      ],
      "metadata": {
        "id": "edHBuIfUfEJy",
        "colab": {
          "base_uri": "https://localhost:8080/",
          "height": 489
        },
        "outputId": "385553a9-8f10-4dd4-a4ca-993f7496961c"
      },
      "execution_count": 18,
      "outputs": [
        {
          "output_type": "execute_result",
          "data": {
            "text/plain": [
              "<function matplotlib.pyplot.show(close=None, block=None)>"
            ]
          },
          "metadata": {},
          "execution_count": 18
        },
        {
          "output_type": "display_data",
          "data": {
            "text/plain": [
              "<Figure size 640x480 with 1 Axes>"
            ],
            "image/png": "[encoded data removed]"
          },
          "metadata": {}
        }
      ]
    },
    {
      "cell_type": "code",
      "source": [
        "plt.plot(history.history['loss'])\n",
        "plt.plot(history.history['val_loss'],'r--')\n",
        "plt.title('Perdidas del modelo')\n",
        "plt.ylabel('Perdidas')\n",
        "plt.xlabel('Epocas')\n",
        "plt.legend(['Entrenamiento','Prueba'], loc='upper left')\n",
        "plt.savefig('figura02.png', dpi=300)\n",
        "plt.show"
      ],
      "metadata": {
        "id": "pPz3Ub7HfEQ7",
        "colab": {
          "base_uri": "https://localhost:8080/",
          "height": 489
        },
        "outputId": "b5099071-2476-4066-8fd6-5ed0d09a1ca9"
      },
      "execution_count": 19,
      "outputs": [
        {
          "output_type": "execute_result",
          "data": {
            "text/plain": [
              "<function matplotlib.pyplot.show(close=None, block=None)>"
            ]
          },
          "metadata": {},
          "execution_count": 19
        },
        {
          "output_type": "display_data",
          "data": {
            "text/plain": [
              "<Figure size 640x480 with 1 Axes>"
            ],
            "image/png": "[encoded data removed]"
          },
          "metadata": {}
        }
      ]
    },
    {
      "cell_type": "code",
      "source": [
        "model.summary()"
      ],
      "metadata": {
        "id": "tU5tyFxBhNmc",
        "colab": {
          "base_uri": "https://localhost:8080/"
        },
        "outputId": "399f08c4-e6a6-45da-ca38-3fa1ee82d7df"
      },
      "execution_count": 20,
      "outputs": [
        {
          "output_type": "stream",
          "name": "stdout",
          "text": [
            "Model: \"sequential\"\n",
            "_________________________________________________________________\n",
            " Layer (type)                Output Shape              Param #   \n",
            "=================================================================\n",
            " dense (Dense)               (None, 55)                3135      \n",
            "                                                                 \n",
            " dense_1 (Dense)             (None, 53)                2968      \n",
            "                                                                 \n",
            " dense_2 (Dense)             (None, 51)                2754      \n",
            "                                                                 \n",
            " dense_3 (Dense)             (None, 49)                2548      \n",
            "                                                                 \n",
            " dense_4 (Dense)             (None, 47)                2350      \n",
            "                                                                 \n",
            " dense_5 (Dense)             (None, 45)                2160      \n",
            "                                                                 \n",
            " dense_6 (Dense)             (None, 43)                1978      \n",
            "                                                                 \n",
            " dense_7 (Dense)             (None, 41)                1804      \n",
            "                                                                 \n",
            " dense_8 (Dense)             (None, 39)                1638      \n",
            "                                                                 \n",
            " dense_9 (Dense)             (None, 37)                1480      \n",
            "                                                                 \n",
            " dense_10 (Dense)            (None, 35)                1330      \n",
            "                                                                 \n",
            " dense_11 (Dense)            (None, 33)                1188      \n",
            "                                                                 \n",
            " dense_12 (Dense)            (None, 31)                1054      \n",
            "                                                                 \n",
            " dense_13 (Dense)            (None, 29)                928       \n",
            "                                                                 \n",
            " dense_14 (Dense)            (None, 27)                810       \n",
            "                                                                 \n",
            " dense_15 (Dense)            (None, 25)                700       \n",
            "                                                                 \n",
            " dense_16 (Dense)            (None, 23)                598       \n",
            "                                                                 \n",
            " dense_17 (Dense)            (None, 21)                504       \n",
            "                                                                 \n",
            " dense_18 (Dense)            (None, 19)                418       \n",
            "                                                                 \n",
            " dense_19 (Dense)            (None, 17)                340       \n",
            "                                                                 \n",
            " dense_20 (Dense)            (None, 15)                270       \n",
            "                                                                 \n",
            " dense_21 (Dense)            (None, 13)                208       \n",
            "                                                                 \n",
            " dense_22 (Dense)            (None, 11)                154       \n",
            "                                                                 \n",
            " dense_23 (Dense)            (None, 9)                 108       \n",
            "                                                                 \n",
            " dense_24 (Dense)            (None, 7)                 70        \n",
            "                                                                 \n",
            " dense_25 (Dense)            (None, 5)                 40        \n",
            "                                                                 \n",
            " dense_26 (Dense)            (None, 3)                 18        \n",
            "                                                                 \n",
            "=================================================================\n",
            "Total params: 31,553\n",
            "Trainable params: 31,553\n",
            "Non-trainable params: 0\n",
            "_________________________________________________________________\n"
          ]
        }
      ]
    }
  ]
}